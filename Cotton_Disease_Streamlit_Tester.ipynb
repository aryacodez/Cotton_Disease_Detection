{
  "nbformat": 4,
  "nbformat_minor": 0,
  "metadata": {
    "colab": {
      "name": "Cotton_Disease_Streamlit_Tester.ipynb",
      "provenance": [],
      "collapsed_sections": [],
      "include_colab_link": true
    },
    "kernelspec": {
      "name": "python3",
      "display_name": "Python 3"
    },
    "language_info": {
      "name": "python"
    }
  },
  "cells": [
    {
      "cell_type": "markdown",
      "metadata": {
        "id": "view-in-github",
        "colab_type": "text"
      },
      "source": [
        "<a href=\"https://colab.research.google.com/github/aryacodez/Cotton_Disease_Detection/blob/main/Cotton_Disease_Streamlit_Tester.ipynb\" target=\"_parent\"><img src=\"https://colab.research.google.com/assets/colab-badge.svg\" alt=\"Open In Colab\"/></a>"
      ]
    },
    {
      "cell_type": "code",
      "metadata": {
        "id": "eUKH5LKGhriu"
      },
      "source": [
        "!pip install -q ipykernel~=4.10"
      ],
      "execution_count": null,
      "outputs": []
    },
    {
      "cell_type": "code",
      "metadata": {
        "id": "NfHEFPWNsMUd"
      },
      "source": [
        "!pip install -q ipython~=5.5.0"
      ],
      "execution_count": null,
      "outputs": []
    },
    {
      "cell_type": "code",
      "metadata": {
        "id": "ZgxI7WsAvOED"
      },
      "source": [
        "!pip install -q tensorflow_hub"
      ],
      "execution_count": null,
      "outputs": []
    },
    {
      "cell_type": "code",
      "metadata": {
        "colab": {
          "base_uri": "https://localhost:8080/"
        },
        "id": "16YMLmK5r920",
        "outputId": "edcc88e0-91aa-44d7-d0c9-69869eeba90c"
      },
      "source": [
        "!pip install -q streamlit"
      ],
      "execution_count": null,
      "outputs": [
        {
          "output_type": "stream",
          "name": "stdout",
          "text": [
            "\u001b[K     |████████████████████████████████| 8.3 MB 8.5 MB/s \n",
            "\u001b[K     |████████████████████████████████| 4.3 MB 46.3 MB/s \n",
            "\u001b[K     |████████████████████████████████| 111 kB 45.5 MB/s \n",
            "\u001b[K     |████████████████████████████████| 180 kB 55.3 MB/s \n",
            "\u001b[K     |████████████████████████████████| 76 kB 6.1 MB/s \n",
            "\u001b[K     |████████████████████████████████| 63 kB 2.2 MB/s \n",
            "\u001b[K     |████████████████████████████████| 124 kB 50.4 MB/s \n",
            "\u001b[K     |████████████████████████████████| 788 kB 59.1 MB/s \n",
            "\u001b[K     |████████████████████████████████| 370 kB 62.4 MB/s \n",
            "\u001b[?25h  Building wheel for blinker (setup.py) ... \u001b[?25l\u001b[?25hdone\n",
            "\u001b[31mERROR: pip's dependency resolver does not currently take into account all the packages that are installed. This behaviour is the source of the following dependency conflicts.\n",
            "jupyter-console 5.2.0 requires prompt-toolkit<2.0.0,>=1.0.0, but you have prompt-toolkit 3.0.20 which is incompatible.\n",
            "google-colab 1.0.0 requires ipykernel~=4.10, but you have ipykernel 6.4.1 which is incompatible.\n",
            "google-colab 1.0.0 requires ipython~=5.5.0, but you have ipython 7.28.0 which is incompatible.\u001b[0m\n"
          ]
        }
      ]
    },
    {
      "cell_type": "code",
      "metadata": {
        "colab": {
          "base_uri": "https://localhost:8080/"
        },
        "id": "Lr6PjLZuwfQI",
        "outputId": "3bf7f3a7-b9d6-4795-9d25-4fbfa1c638b0"
      },
      "source": [
        "pip install pyngrok"
      ],
      "execution_count": null,
      "outputs": [
        {
          "output_type": "stream",
          "name": "stdout",
          "text": [
            "Collecting pyngrok\n",
            "  Downloading pyngrok-5.1.0.tar.gz (745 kB)\n",
            "\u001b[?25l\r\u001b[K     |▍                               | 10 kB 25.8 MB/s eta 0:00:01\r\u001b[K     |▉                               | 20 kB 23.2 MB/s eta 0:00:01\r\u001b[K     |█▎                              | 30 kB 16.7 MB/s eta 0:00:01\r\u001b[K     |█▊                              | 40 kB 14.6 MB/s eta 0:00:01\r\u001b[K     |██▏                             | 51 kB 7.0 MB/s eta 0:00:01\r\u001b[K     |██▋                             | 61 kB 7.9 MB/s eta 0:00:01\r\u001b[K     |███                             | 71 kB 7.8 MB/s eta 0:00:01\r\u001b[K     |███▌                            | 81 kB 8.7 MB/s eta 0:00:01\r\u001b[K     |████                            | 92 kB 9.3 MB/s eta 0:00:01\r\u001b[K     |████▍                           | 102 kB 7.0 MB/s eta 0:00:01\r\u001b[K     |████▉                           | 112 kB 7.0 MB/s eta 0:00:01\r\u001b[K     |█████▎                          | 122 kB 7.0 MB/s eta 0:00:01\r\u001b[K     |█████▊                          | 133 kB 7.0 MB/s eta 0:00:01\r\u001b[K     |██████▏                         | 143 kB 7.0 MB/s eta 0:00:01\r\u001b[K     |██████▋                         | 153 kB 7.0 MB/s eta 0:00:01\r\u001b[K     |███████                         | 163 kB 7.0 MB/s eta 0:00:01\r\u001b[K     |███████▌                        | 174 kB 7.0 MB/s eta 0:00:01\r\u001b[K     |████████                        | 184 kB 7.0 MB/s eta 0:00:01\r\u001b[K     |████████▍                       | 194 kB 7.0 MB/s eta 0:00:01\r\u001b[K     |████████▉                       | 204 kB 7.0 MB/s eta 0:00:01\r\u001b[K     |█████████▎                      | 215 kB 7.0 MB/s eta 0:00:01\r\u001b[K     |█████████▊                      | 225 kB 7.0 MB/s eta 0:00:01\r\u001b[K     |██████████▏                     | 235 kB 7.0 MB/s eta 0:00:01\r\u001b[K     |██████████▌                     | 245 kB 7.0 MB/s eta 0:00:01\r\u001b[K     |███████████                     | 256 kB 7.0 MB/s eta 0:00:01\r\u001b[K     |███████████▍                    | 266 kB 7.0 MB/s eta 0:00:01\r\u001b[K     |███████████▉                    | 276 kB 7.0 MB/s eta 0:00:01\r\u001b[K     |████████████▎                   | 286 kB 7.0 MB/s eta 0:00:01\r\u001b[K     |████████████▊                   | 296 kB 7.0 MB/s eta 0:00:01\r\u001b[K     |█████████████▏                  | 307 kB 7.0 MB/s eta 0:00:01\r\u001b[K     |█████████████▋                  | 317 kB 7.0 MB/s eta 0:00:01\r\u001b[K     |██████████████                  | 327 kB 7.0 MB/s eta 0:00:01\r\u001b[K     |██████████████▌                 | 337 kB 7.0 MB/s eta 0:00:01\r\u001b[K     |███████████████                 | 348 kB 7.0 MB/s eta 0:00:01\r\u001b[K     |███████████████▍                | 358 kB 7.0 MB/s eta 0:00:01\r\u001b[K     |███████████████▉                | 368 kB 7.0 MB/s eta 0:00:01\r\u001b[K     |████████████████▎               | 378 kB 7.0 MB/s eta 0:00:01\r\u001b[K     |████████████████▊               | 389 kB 7.0 MB/s eta 0:00:01\r\u001b[K     |█████████████████▏              | 399 kB 7.0 MB/s eta 0:00:01\r\u001b[K     |█████████████████▋              | 409 kB 7.0 MB/s eta 0:00:01\r\u001b[K     |██████████████████              | 419 kB 7.0 MB/s eta 0:00:01\r\u001b[K     |██████████████████▌             | 430 kB 7.0 MB/s eta 0:00:01\r\u001b[K     |███████████████████             | 440 kB 7.0 MB/s eta 0:00:01\r\u001b[K     |███████████████████▍            | 450 kB 7.0 MB/s eta 0:00:01\r\u001b[K     |███████████████████▉            | 460 kB 7.0 MB/s eta 0:00:01\r\u001b[K     |████████████████████▎           | 471 kB 7.0 MB/s eta 0:00:01\r\u001b[K     |████████████████████▋           | 481 kB 7.0 MB/s eta 0:00:01\r\u001b[K     |█████████████████████           | 491 kB 7.0 MB/s eta 0:00:01\r\u001b[K     |█████████████████████▌          | 501 kB 7.0 MB/s eta 0:00:01\r\u001b[K     |██████████████████████          | 512 kB 7.0 MB/s eta 0:00:01\r\u001b[K     |██████████████████████▍         | 522 kB 7.0 MB/s eta 0:00:01\r\u001b[K     |██████████████████████▉         | 532 kB 7.0 MB/s eta 0:00:01\r\u001b[K     |███████████████████████▎        | 542 kB 7.0 MB/s eta 0:00:01\r\u001b[K     |███████████████████████▊        | 552 kB 7.0 MB/s eta 0:00:01\r\u001b[K     |████████████████████████▏       | 563 kB 7.0 MB/s eta 0:00:01\r\u001b[K     |████████████████████████▋       | 573 kB 7.0 MB/s eta 0:00:01\r\u001b[K     |█████████████████████████       | 583 kB 7.0 MB/s eta 0:00:01\r\u001b[K     |█████████████████████████▌      | 593 kB 7.0 MB/s eta 0:00:01\r\u001b[K     |██████████████████████████      | 604 kB 7.0 MB/s eta 0:00:01\r\u001b[K     |██████████████████████████▍     | 614 kB 7.0 MB/s eta 0:00:01\r\u001b[K     |██████████████████████████▉     | 624 kB 7.0 MB/s eta 0:00:01\r\u001b[K     |███████████████████████████▎    | 634 kB 7.0 MB/s eta 0:00:01\r\u001b[K     |███████████████████████████▊    | 645 kB 7.0 MB/s eta 0:00:01\r\u001b[K     |████████████████████████████▏   | 655 kB 7.0 MB/s eta 0:00:01\r\u001b[K     |████████████████████████████▋   | 665 kB 7.0 MB/s eta 0:00:01\r\u001b[K     |█████████████████████████████   | 675 kB 7.0 MB/s eta 0:00:01\r\u001b[K     |█████████████████████████████▌  | 686 kB 7.0 MB/s eta 0:00:01\r\u001b[K     |██████████████████████████████  | 696 kB 7.0 MB/s eta 0:00:01\r\u001b[K     |██████████████████████████████▍ | 706 kB 7.0 MB/s eta 0:00:01\r\u001b[K     |██████████████████████████████▊ | 716 kB 7.0 MB/s eta 0:00:01\r\u001b[K     |███████████████████████████████▏| 727 kB 7.0 MB/s eta 0:00:01\r\u001b[K     |███████████████████████████████▋| 737 kB 7.0 MB/s eta 0:00:01\r\u001b[K     |████████████████████████████████| 745 kB 7.0 MB/s \n",
            "\u001b[?25hRequirement already satisfied: PyYAML in /usr/local/lib/python3.7/dist-packages (from pyngrok) (3.13)\n",
            "Building wheels for collected packages: pyngrok\n",
            "  Building wheel for pyngrok (setup.py) ... \u001b[?25l\u001b[?25hdone\n",
            "  Created wheel for pyngrok: filename=pyngrok-5.1.0-py3-none-any.whl size=19006 sha256=797aead4feb8617898badc29e020f871a4b96e1cf0628584a6395255931899e6\n",
            "  Stored in directory: /root/.cache/pip/wheels/bf/e6/af/ccf6598ecefecd44104069371795cb9b3afbcd16987f6ccfb3\n",
            "Successfully built pyngrok\n",
            "Installing collected packages: pyngrok\n",
            "Successfully installed pyngrok-5.1.0\n"
          ]
        }
      ]
    },
    {
      "cell_type": "code",
      "metadata": {
        "id": "bW3NxJT4r14_",
        "colab": {
          "base_uri": "https://localhost:8080/"
        },
        "outputId": "8eecea68-4dea-4c63-f890-ed511f7cebc2"
      },
      "source": [
        "%%writefile app.py\n",
        "import streamlit as st\n",
        "import matplotlib.pyplot as plt\n",
        "import tensorflow_hub as hub\n",
        "import numpy as np\n",
        "import tensorflow \n",
        "import tensorflow as tf\n",
        "from tensorflow.keras.models import load_model\n",
        "from tensorflow.keras.preprocessing.image import load_img\n",
        "from tensorflow.keras.preprocessing.image import img_to_array\n",
        "from PIL import Image \n",
        "fig=plt.figure()\n",
        "st.title('Cotton Disease Detection')\n",
        "\n",
        "\n",
        "def predict(image):\n",
        "  model='/content/cottonmobilenet.h5'\n",
        "  IMAGE_SHAPE=(224,224,3)\n",
        "  models=load_model(model,compile=False,custom_objects={'KerasLayer': hub.KerasLayer})\n",
        "  test_image=image.resize((224,224))\n",
        "  test_image=img_to_array(test_image)\n",
        "  test_image=test_image/255.0\n",
        "  test_image=np.expand_dims(test_image,axis=0)\n",
        "  classes=['Diseased Cotton Leaf','Diseased Cotton Plant','Fresh Cotton Leaf','Fresh Cotton Plant']\n",
        "  predictions=models.predict(test_image)\n",
        "  scores=tf.nn.softmax(predictions[0])\n",
        "  results={\n",
        "      'Diseased Cotton Leaf':0,\n",
        "      'Diseased Cotton Plant':1,\n",
        "      'Fresh Cotton Leaf':2,\n",
        "      'Fresh Cotton Plant':3\n",
        "  }\n",
        "  results=classes[np.argmax(scores)]\n",
        "  return results\n",
        "  # st.write('This is a',classes[np.argmax(scores)])\n",
        "\n",
        "\n",
        "def main():\n",
        "  upload=st.file_uploader('UPLOAD IMAGE',type=['jpg','png','jpeg'])\n",
        "  btn=st.button('Predict')\n",
        "  if upload is not None:\n",
        "    image=Image.open(upload)\n",
        "    st.image(image,caption='Uploaded')\n",
        "  if btn:\n",
        "    if upload is None:\n",
        "      st.write('Upload Image!!!')\n",
        "    else:\n",
        "      with st.spinner('Model Loading...'):\n",
        "        plt.imshow(image)\n",
        "        plt.axis('off')\n",
        "        predictions=predict(image)\n",
        "        st.success('Predicted')\n",
        "        st.write('Results: **This is a {}**'.format(predictions))\n",
        "        st.pyplot(fig)\n",
        "\n",
        "if __name__==\"__main__\":\n",
        "\n",
        "  main()\n",
        "\n"
      ],
      "execution_count": null,
      "outputs": [
        {
          "output_type": "stream",
          "name": "stdout",
          "text": [
            "Overwriting app.py\n"
          ]
        }
      ]
    },
    {
      "cell_type": "code",
      "metadata": {
        "colab": {
          "base_uri": "https://localhost:8080/"
        },
        "id": "Z0MaOAqJs-fH",
        "outputId": "9be86d20-3f9a-40b4-dcc6-ba7463bbd4c9"
      },
      "source": [
        "!ls"
      ],
      "execution_count": null,
      "outputs": [
        {
          "output_type": "stream",
          "name": "stdout",
          "text": [
            "app.py\tcottonmobilenet.h5  sample_data\n"
          ]
        }
      ]
    },
    {
      "cell_type": "code",
      "metadata": {
        "colab": {
          "base_uri": "https://localhost:8080/"
        },
        "id": "MBhs-2U1xHgh",
        "outputId": "509f7b4e-863d-43ef-ccd8-8cf3e41e9913"
      },
      "source": [
        "!ngrok authtoken 1sxmRs5h5d7BDAp7YxTwILbkH9N_6meKLhsKjFZgRx7trFwmW"
      ],
      "execution_count": null,
      "outputs": [
        {
          "output_type": "stream",
          "name": "stdout",
          "text": [
            "Authtoken saved to configuration file: /root/.ngrok2/ngrok.yml\n"
          ]
        }
      ]
    },
    {
      "cell_type": "code",
      "metadata": {
        "id": "TXut527FxJhz"
      },
      "source": [
        "from pyngrok import ngrok"
      ],
      "execution_count": null,
      "outputs": []
    },
    {
      "cell_type": "code",
      "metadata": {
        "id": "ZNBA8w8AxLiQ"
      },
      "source": [
        "!streamlit run --server.port 80 app.py&>/dev/null&"
      ],
      "execution_count": null,
      "outputs": []
    },
    {
      "cell_type": "code",
      "metadata": {
        "colab": {
          "base_uri": "https://localhost:8080/"
        },
        "id": "9ankmV3qxNH-",
        "outputId": "9da561ca-e949-4cd6-fe65-b5d19e42440d"
      },
      "source": [
        "!pgrep streamlit"
      ],
      "execution_count": null,
      "outputs": [
        {
          "output_type": "stream",
          "name": "stdout",
          "text": [
            "195\n",
            "527\n"
          ]
        }
      ]
    },
    {
      "cell_type": "code",
      "metadata": {
        "id": "XMOjan9gxOsh"
      },
      "source": [
        "from pyngrok import ngrok\n",
        "url = ngrok.connect()\n",
        "ssh_tunnel = ngrok.connect(22, \"tcp\")"
      ],
      "execution_count": null,
      "outputs": []
    },
    {
      "cell_type": "code",
      "metadata": {
        "colab": {
          "base_uri": "https://localhost:8080/"
        },
        "id": "fR8L1Y07xQ42",
        "outputId": "a72d41dd-40c8-4833-ff25-ff85d2757f6a"
      },
      "source": [
        "url"
      ],
      "execution_count": null,
      "outputs": [
        {
          "output_type": "execute_result",
          "data": {
            "text/plain": [
              "<NgrokTunnel: \"http://1f69-34-125-198-18.ngrok.io\" -> \"http://localhost:80\">"
            ]
          },
          "metadata": {},
          "execution_count": 75
        }
      ]
    },
    {
      "cell_type": "code",
      "metadata": {
        "id": "wNpnLi4hxT5M"
      },
      "source": [
        "ngrok.kill()"
      ],
      "execution_count": null,
      "outputs": []
    }
  ]
}